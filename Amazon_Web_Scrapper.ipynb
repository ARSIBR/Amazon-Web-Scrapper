{
 "cells": [
  {
   "cell_type": "code",
   "execution_count": 1,
   "id": "3c604ac3-69f0-4145-a625-8183ba6131c5",
   "metadata": {},
   "outputs": [],
   "source": [
    "#Importing Libraries\n",
    "from bs4 import BeautifulSoup\n",
    "import requests\n",
    "import smtplib\n",
    "import time\n",
    "import datetime\n",
    "import csv\n",
    "import pandas as pd"
   ]
  },
  {
   "cell_type": "code",
   "execution_count": 1,
   "id": "74f2767d-4651-4ac0-9e2e-87f0d51cc48d",
   "metadata": {
    "scrolled": true
   },
   "outputs": [
    {
     "ename": "NameError",
     "evalue": "name 'requests' is not defined",
     "output_type": "error",
     "traceback": [
      "\u001b[1;31m---------------------------------------------------------------------------\u001b[0m",
      "\u001b[1;31mNameError\u001b[0m                                 Traceback (most recent call last)",
      "Cell \u001b[1;32mIn[1], line 7\u001b[0m\n\u001b[0;32m      3\u001b[0m URL \u001b[38;5;241m=\u001b[39m \u001b[38;5;124m\"\u001b[39m\u001b[38;5;124mhttps://www.amazon.com/Apple-MacBook-13-inch-Unified-Storage/dp/B0CY3MMKB6/ref=sr_1_2?crid=28VQCFOEV51U9&dib=eyJ2IjoiMSJ9.AFv8zMcAmkcz6WVdJyQfznjSHxCAERfufndIdU4c8yk-FbfqA_-fV0BkDJfao4TNM63y-QOz1DIkxI0F3wtR65ruzhDfK_V30iBWdVlHpfEZ5CM__R2Ukzwnvn6hTtyz-T6-VTPbe7sOmXhgf_WLPlgccNQssuUJXWagaqXjYoc6deosJmoMfvD1fABAAAnCx3zRphU2SYmy5MCnpQx5lp6BZi2uIXphofwkjcq9cMM.iOuxMFJCrBigK32HrM1Pg4_Pp8kJm1jyC69UIY1EQso&dib_tag=se&keywords=macbook+air&qid=1720942614&sprefix=macboo\u001b[39m\u001b[38;5;124m%\u001b[39m\u001b[38;5;124m2Caps\u001b[39m\u001b[38;5;124m%\u001b[39m\u001b[38;5;124m2C338&sr=8-2\u001b[39m\u001b[38;5;124m\"\u001b[39m\n\u001b[0;32m      5\u001b[0m headers \u001b[38;5;241m=\u001b[39m {\u001b[38;5;124m\"\u001b[39m\u001b[38;5;124mUser-Agent\u001b[39m\u001b[38;5;124m\"\u001b[39m: \u001b[38;5;124m\"\u001b[39m\u001b[38;5;124mMozilla/5.0 (Windows NT 10.0; Win64; x64) AppleWebKit/537.36 (KHTML, like Gecko) Chrome/126.0.0.0 Safari/537.36\u001b[39m\u001b[38;5;124m\"\u001b[39m, \u001b[38;5;124m\"\u001b[39m\u001b[38;5;124mAccept-Encoding\u001b[39m\u001b[38;5;124m\"\u001b[39m:\u001b[38;5;124m\"\u001b[39m\u001b[38;5;124mgzip, deflate\u001b[39m\u001b[38;5;124m\"\u001b[39m, \u001b[38;5;124m\"\u001b[39m\u001b[38;5;124mAccept\u001b[39m\u001b[38;5;124m\"\u001b[39m:\u001b[38;5;124m\"\u001b[39m\u001b[38;5;124mtext/html,application/xhtml+xml,application/xml;q=0.9,*/*;q=0.8\u001b[39m\u001b[38;5;124m\"\u001b[39m, \u001b[38;5;124m\"\u001b[39m\u001b[38;5;124mDNT\u001b[39m\u001b[38;5;124m\"\u001b[39m:\u001b[38;5;124m\"\u001b[39m\u001b[38;5;124m1\u001b[39m\u001b[38;5;124m\"\u001b[39m,\u001b[38;5;124m\"\u001b[39m\u001b[38;5;124mConnection\u001b[39m\u001b[38;5;124m\"\u001b[39m:\u001b[38;5;124m\"\u001b[39m\u001b[38;5;124mclose\u001b[39m\u001b[38;5;124m\"\u001b[39m, \u001b[38;5;124m\"\u001b[39m\u001b[38;5;124mUpgrade-Insecure-Requests\u001b[39m\u001b[38;5;124m\"\u001b[39m:\u001b[38;5;124m\"\u001b[39m\u001b[38;5;124m1\u001b[39m\u001b[38;5;124m\"\u001b[39m}\n\u001b[1;32m----> 7\u001b[0m page \u001b[38;5;241m=\u001b[39m requests\u001b[38;5;241m.\u001b[39mget(URL, headers \u001b[38;5;241m=\u001b[39m headers)\n\u001b[0;32m      9\u001b[0m Soup1 \u001b[38;5;241m=\u001b[39m BeautifulSoup(page\u001b[38;5;241m.\u001b[39mcontent, \u001b[38;5;124m\"\u001b[39m\u001b[38;5;124mhtml.parser\u001b[39m\u001b[38;5;124m\"\u001b[39m)\n\u001b[0;32m     11\u001b[0m Soup2 \u001b[38;5;241m=\u001b[39m BeautifulSoup(Soup1\u001b[38;5;241m.\u001b[39mprettify(), \u001b[38;5;124m\"\u001b[39m\u001b[38;5;124mhtml.parser\u001b[39m\u001b[38;5;124m\"\u001b[39m)\n",
      "\u001b[1;31mNameError\u001b[0m: name 'requests' is not defined"
     ]
    }
   ],
   "source": [
    "#Connect to Website\n",
    "\n",
    "URL = \"https://www.amazon.com/Apple-MacBook-13-inch-Unified-Storage/dp/B0CY3MMKB6/ref=sr_1_2?crid=28VQCFOEV51U9&dib=eyJ2IjoiMSJ9.AFv8zMcAmkcz6WVdJyQfznjSHxCAERfufndIdU4c8yk-FbfqA_-fV0BkDJfao4TNM63y-QOz1DIkxI0F3wtR65ruzhDfK_V30iBWdVlHpfEZ5CM__R2Ukzwnvn6hTtyz-T6-VTPbe7sOmXhgf_WLPlgccNQssuUJXWagaqXjYoc6deosJmoMfvD1fABAAAnCx3zRphU2SYmy5MCnpQx5lp6BZi2uIXphofwkjcq9cMM.iOuxMFJCrBigK32HrM1Pg4_Pp8kJm1jyC69UIY1EQso&dib_tag=se&keywords=macbook+air&qid=1720942614&sprefix=macboo%2Caps%2C338&sr=8-2\"\n",
    "\n",
    "headers = {\"User-Agent\": \"Mozilla/5.0 (Windows NT 10.0; Win64; x64) AppleWebKit/537.36 (KHTML, like Gecko) Chrome/126.0.0.0 Safari/537.36\", \"Accept-Encoding\":\"gzip, deflate\", \"Accept\":\"text/html,application/xhtml+xml,application/xml;q=0.9,*/*;q=0.8\", \"DNT\":\"1\",\"Connection\":\"close\", \"Upgrade-Insecure-Requests\":\"1\"}\n",
    "\n",
    "page = requests.get(URL, headers = headers)\n",
    "\n",
    "Soup1 = BeautifulSoup(page.content, \"html.parser\")\n",
    "\n",
    "Soup2 = BeautifulSoup(Soup1.prettify(), \"html.parser\")\n",
    "\n",
    "title = Soup2.find(id = \"productTitle\").get_text()\n",
    "\n",
    "price_symbol = Soup2.find(class_='a-price-symbol').get_text(strip=True)\n",
    "price_whole = Soup2.find(class_='a-price-whole').get_text(strip=True)\n",
    "price_fraction = Soup2.find(class_='a-price-fraction').get_text(strip=True)\n",
    "price = f'{price_symbol}{price_whole}{price_fraction}'\n",
    "\n",
    "rating = Soup2.find(class_=\"a-size-base a-color-base\").get_text(strip=True)\n",
    "\n",
    "\n",
    "print(title)\n",
    "print(price)\n",
    "print(rating)"
   ]
  },
  {
   "cell_type": "code",
   "execution_count": 5,
   "id": "4e6683f5-f884-460c-ae30-8e8e4997b4f3",
   "metadata": {},
   "outputs": [],
   "source": [
    "title = title.strip()[0:102]\n",
    "price = price[1:]\n",
    "rating = rating.strip()"
   ]
  },
  {
   "cell_type": "code",
   "execution_count": 7,
   "id": "af07d224-786a-438c-869f-821d1f8f9360",
   "metadata": {},
   "outputs": [
    {
     "name": "stdout",
     "output_type": "stream",
     "text": [
      "2024-07-14\n"
     ]
    }
   ],
   "source": [
    "today = datetime.date.today()\n",
    "\n",
    "print(today)"
   ]
  },
  {
   "cell_type": "code",
   "execution_count": 9,
   "id": "da05c481-2ca3-4e43-8b2b-4bfed44ec16e",
   "metadata": {},
   "outputs": [],
   "source": [
    "#create csv\n",
    "\n",
    "header = ['Title', 'Price', 'Rating', 'Date']\n",
    "data = [title, price, rating, today]\n",
    "\n",
    "with open('Amazon_Web_Scrapper_Macbook.csv', 'w', encoding = 'UTF8') as f:\n",
    "    writer = csv.writer(f)\n",
    "    writer.writerow(header)\n",
    "    writer.writerow(data)"
   ]
  },
  {
   "cell_type": "code",
   "execution_count": 11,
   "id": "8e6b66f9-a0e2-4994-a655-ed47e230461b",
   "metadata": {},
   "outputs": [
    {
     "name": "stdout",
     "output_type": "stream",
     "text": [
      "                                               Title     Price  Rating  \\\n",
      "0  Apple 2024 MacBook Air 13-inch Laptop with M3 ...  1,253.91     NaN   \n",
      "\n",
      "         Date  \n",
      "0  2024-07-14  \n"
     ]
    }
   ],
   "source": [
    "df = pd.read_csv(r'Amazon_Web_Scrapper_Macbook.csv')\n",
    "print(df)"
   ]
  },
  {
   "cell_type": "code",
   "execution_count": 25,
   "id": "9fe8064d-577a-4610-af5d-4aceb0f622f5",
   "metadata": {},
   "outputs": [
    {
     "ename": "NameError",
     "evalue": "name 'data' is not defined",
     "output_type": "error",
     "traceback": [
      "\u001b[1;31m---------------------------------------------------------------------------\u001b[0m",
      "\u001b[1;31mNameError\u001b[0m                                 Traceback (most recent call last)",
      "Cell \u001b[1;32mIn[25], line 4\u001b[0m\n\u001b[0;32m      2\u001b[0m \u001b[38;5;28;01mwith\u001b[39;00m \u001b[38;5;28mopen\u001b[39m(\u001b[38;5;124m'\u001b[39m\u001b[38;5;124mAmazon_Web_Scrapper_Macbook.csv\u001b[39m\u001b[38;5;124m'\u001b[39m, \u001b[38;5;124m'\u001b[39m\u001b[38;5;124ma+\u001b[39m\u001b[38;5;124m'\u001b[39m, encoding \u001b[38;5;241m=\u001b[39m \u001b[38;5;124m'\u001b[39m\u001b[38;5;124mUTF8\u001b[39m\u001b[38;5;124m'\u001b[39m) \u001b[38;5;28;01mas\u001b[39;00m f:\n\u001b[0;32m      3\u001b[0m     writer \u001b[38;5;241m=\u001b[39m csv\u001b[38;5;241m.\u001b[39mwriter(f)\n\u001b[1;32m----> 4\u001b[0m     writer\u001b[38;5;241m.\u001b[39mwriterow(data)\n",
      "\u001b[1;31mNameError\u001b[0m: name 'data' is not defined"
     ]
    }
   ],
   "source": [
    "#Appending more data\n",
    "with open('Amazon_Web_Scrapper_Macbook.csv', 'a+', encoding = 'UTF8') as f:\n",
    "    writer = csv.writer(f)\n",
    "    writer.writerow(data)"
   ]
  },
  {
   "cell_type": "code",
   "execution_count": null,
   "id": "e8c69151-74e7-45ef-831c-43b492e23165",
   "metadata": {},
   "outputs": [],
   "source": []
  },
  {
   "cell_type": "code",
   "execution_count": 138,
   "id": "7bcf02d3-5039-4df5-8f73-f6245b8e3127",
   "metadata": {},
   "outputs": [],
   "source": [
    "#Function for Appending Data\n",
    "def check_price():\n",
    "    URL = \"https://www.amazon.com/Apple-MacBook-13-inch-Unified-Storage/dp/B0CY3MMKB6/ref=sr_1_2?crid=28VQCFOEV51U9&dib=eyJ2IjoiMSJ9.AFv8zMcAmkcz6WVdJyQfznjSHxCAERfufndIdU4c8yk-FbfqA_-fV0BkDJfao4TNM63y-QOz1DIkxI0F3wtR65ruzhDfK_V30iBWdVlHpfEZ5CM__R2Ukzwnvn6hTtyz-T6-VTPbe7sOmXhgf_WLPlgccNQssuUJXWagaqXjYoc6deosJmoMfvD1fABAAAnCx3zRphU2SYmy5MCnpQx5lp6BZi2uIXphofwkjcq9cMM.iOuxMFJCrBigK32HrM1Pg4_Pp8kJm1jyC69UIY1EQso&dib_tag=se&keywords=macbook+air&qid=1720942614&sprefix=macboo%2Caps%2C338&sr=8-2\"\n",
    "\n",
    "    headers = {\"User-Agent\": \"Mozilla/5.0 (Windows NT 10.0; Win64; x64) AppleWebKit/537.36 (KHTML, like Gecko) Chrome/126.0.0.0 Safari/537.36\", \"Accept-Encoding\":\"gzip, deflate\", \"Accept\":\"text/html,application/xhtml+xml,application/xml;q=0.9,*/*;q=0.8\", \"DNT\":\"1\",\"Connection\":\"close\", \"Upgrade-Insecure-Requests\":\"1\"}\n",
    "    \n",
    "    page = requests.get(URL, headers = headers)\n",
    "    \n",
    "    Soup1 = BeautifulSoup(page.content, \"html.parser\")\n",
    "    \n",
    "    Soup2 = BeautifulSoup(Soup1.prettify(), \"html.parser\")\n",
    "    \n",
    "    title = Soup2.find(id = \"productTitle\").get_text()\n",
    "    \n",
    "    price_symbol = Soup2.find(class_='a-price-symbol').get_text(strip=True)\n",
    "    price_whole = Soup2.find(class_='a-price-whole').get_text(strip=True)\n",
    "    price_fraction = Soup2.find(class_='a-price-fraction').get_text(strip=True)\n",
    "    price = f'{price_symbol}{price_whole}{price_fraction}'\n",
    "    \n",
    "    rating = soup2.find(class_=\"a-size-base a-color-base\").get_text(strip=True)\n",
    "\n",
    "    title = title.strip()[0:102]\n",
    "    price = price[1:]\n",
    "    rating = rating.strip()\n",
    "\n",
    "    today = datetime.date.today()\n",
    "\n",
    "    header = ['Title', 'Price', 'Rating', 'Date']\n",
    "    data = [title, price, rating, today]\n",
    "\n",
    "    with open('Amazon_Web_Scrapper_Macbook.csv', 'a+', encoding = 'UTF8') as f:\n",
    "        writer = csv.writer(f)\n",
    "        writer.writerow(data)\n",
    "\n",
    "    if price <= 999:\n",
    "        send_mail()"
   ]
  },
  {
   "cell_type": "code",
   "execution_count": null,
   "id": "76237ad7-f81c-417b-b5a8-aff840119eee",
   "metadata": {},
   "outputs": [],
   "source": [
    "while(True):\n",
    "    check_price()\n",
    "    time.sleep(86400)"
   ]
  },
  {
   "cell_type": "code",
   "execution_count": 17,
   "id": "9938d01d-b9a6-4ee4-8c84-c6dd60bde9b1",
   "metadata": {},
   "outputs": [
    {
     "name": "stdout",
     "output_type": "stream",
     "text": [
      "                                               Title     Price  Rating  \\\n",
      "0  Apple 2024 MacBook Air 13-inch Laptop with M3 ...  1,253.91     4.3   \n",
      "1  Apple 2024 MacBook Air 13-inch Laptop with M3 ...  1,253.91     4.3   \n",
      "2  Apple 2024 MacBook Air 13-inch Laptop with M3 ...  1,253.91     4.3   \n",
      "\n",
      "         Date  \n",
      "0  2024-07-14  \n",
      "1  2024-07-14  \n",
      "2  2024-07-14  \n"
     ]
    }
   ],
   "source": [
    "df = pd.read_csv(r'Amazon_Web_Scrapper_Macbook.csv')\n",
    "print(df)"
   ]
  },
  {
   "cell_type": "code",
   "execution_count": null,
   "id": "8483e3b3-fbc0-4077-bbb5-f46f74456691",
   "metadata": {},
   "outputs": [],
   "source": [
    "#A way to notify if price below a certain value\n",
    "def send_mail():\n",
    "    server = smtplib.SMTP_SSL('smtp.gmail.com',465)\n",
    "    server.ehlo()\n",
    "    #server.starttls()\n",
    "    server.ehlo()\n",
    "    server.login('armaanbrar290@gmail.com','xxxxxxxxxxxxxx')\n",
    "    \n",
    "    subject = \"The MAc you want is below $1000! Now is your chance to buy!\"\n",
    "    body = \"This is the moment we have been waiting for. Now is your chance to pick up the mac of your dreams.\"\n",
    "   \n",
    "    msg = f\"Subject: {subject}\\n\\n{body}\"\n",
    "    \n",
    "    server.sendmail(\n",
    "        'armaanbrar290@gmail.com',\n",
    "        msg\n",
    "     \n",
    "    )"
   ]
  }
 ],
 "metadata": {
  "kernelspec": {
   "display_name": "Python 3 (ipykernel)",
   "language": "python",
   "name": "python3"
  },
  "language_info": {
   "codemirror_mode": {
    "name": "ipython",
    "version": 3
   },
   "file_extension": ".py",
   "mimetype": "text/x-python",
   "name": "python",
   "nbconvert_exporter": "python",
   "pygments_lexer": "ipython3",
   "version": "3.11.7"
  }
 },
 "nbformat": 4,
 "nbformat_minor": 5
}
